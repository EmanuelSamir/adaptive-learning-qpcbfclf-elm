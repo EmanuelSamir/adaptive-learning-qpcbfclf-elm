{
 "cells": [
  {
   "cell_type": "code",
   "execution_count": 17,
   "id": "hungry-transparency",
   "metadata": {},
   "outputs": [
    {
     "name": "stdout",
     "output_type": "stream",
     "text": [
      "2\n"
     ]
    }
   ],
   "source": [
    "from casadi import *\n",
    "\n",
    "x = MX.sym(\"x\")\n",
    "p = MX.sym(\"p\")\n",
    "\n",
    "# We should either make this line fail with a friendly error,\n",
    "s_opts = dict(print_level=0)\n",
    "solver = nlpsol(\"solver\", \"ipopt\", {\"x\": x, \"p\":p, \"f\": (x - p) ** 2}, {'verbose':False,'print_time':False, \"ipopt\": {\"print_level\": 0}})\n",
    "\n",
    "pi = MX.sym(\"pi\")\n",
    "x0 = MX.sym(\"x0\")\n",
    "# NB: you can also reuse the same symbol of before\n",
    "ret = solver(x0=x0, p=pi)\n",
    "\n",
    "f = Function('solver', [x0, pi], [ret[\"x\"]])\n",
    "\n",
    "# should print 2\n",
    "print(f(2, 2))"
   ]
  },
  {
   "cell_type": "code",
   "execution_count": null,
   "id": "canadian-trinidad",
   "metadata": {},
   "outputs": [],
   "source": []
  }
 ],
 "metadata": {
  "kernelspec": {
   "display_name": "Python 3",
   "language": "python",
   "name": "python3"
  },
  "language_info": {
   "codemirror_mode": {
    "name": "ipython",
    "version": 3
   },
   "file_extension": ".py",
   "mimetype": "text/x-python",
   "name": "python",
   "nbconvert_exporter": "python",
   "pygments_lexer": "ipython3",
   "version": "3.6.9"
  }
 },
 "nbformat": 4,
 "nbformat_minor": 5
}
