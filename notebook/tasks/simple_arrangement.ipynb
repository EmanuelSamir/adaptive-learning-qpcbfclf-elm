{
 "cells": [
  {
   "cell_type": "code",
   "execution_count": 1,
   "metadata": {},
   "outputs": [],
   "source": [
    "# Basic\n",
    "import numpy as np\n",
    "from scipy.linalg import pinv2"
   ]
  },
  {
   "cell_type": "markdown",
   "metadata": {},
   "source": [
    "$$\n",
    "\\frac{\\partial h}{\\partial x} \\left( \\frac{\\partial V}{\\partial x} \\right)^+ \\tilde{\\dot{V}} = \\tilde{\\dot{h}}_1 = \\frac{\\partial h}{\\partial x} [ \\tilde{f} \\; \\tilde{g}] [1 \\; u]^T \\\\\n",
    "\\tilde{\\dot{h}} = \\tilde{\\dot{h}}_2 = \\frac{\\partial h}{\\partial x} [ \\tilde{f} \\; \\tilde{g}] [1 \\; u]^T\n",
    "$$\n",
    "\n",
    "A possible arrangement could be\n",
    "\n",
    "$$\n",
    "\\frac{\\partial h}{\\partial x} [ \\tilde{f} \\; \\tilde{g}]  = [e_f \\; e_g] = [\\tilde{\\dot{h}}_1  \\; \\tilde{\\dot{h}}_2 ] \\begin{bmatrix} 1& 1\\\\ u &u\n",
    "\\end{bmatrix}^+\n",
    "$$\n"
   ]
  },
  {
   "cell_type": "code",
   "execution_count": 2,
   "metadata": {},
   "outputs": [
    {
     "name": "stdout",
     "output_type": "stream",
     "text": [
      "Values expected [[-0.4  0.7]]\n",
      "Values obtained [[5.99799976e-05 2.99899988e-01]]\n"
     ]
    }
   ],
   "source": [
    "\n",
    "# Random sample values for the components.\n",
    "u_ext = np.array([[1], [5000]]) # u_ext = [1 u]^T\n",
    "\n",
    "dhx = np.array([[0, -1, 2]]) # dh/dx\n",
    "dVx = np.array([[0, 2, 0]])  #dV/dx\n",
    "dh_est = np.array([[3]]) #dot{h}\n",
    "dV_est = np.array([[4]]) #dot{V}\n",
    "\n",
    "eps_fg = np.array([[0.5,0.2],[0.6,0.1],[0.1,0.4]]) # [\\eps_f \\eps_g]\n",
    "\n",
    "\n",
    "dh_real = dh_est + dhx.dot(np.dot(eps_fg, u_ext))\n",
    "dV_real =  dV_est + dVx.dot(np.dot(eps_fg, u_ext))\n",
    "\n",
    "dhe1 = dh_real - dh_est\n",
    "dhe2 = dhx.dot(pinv2(dVx)).dot(dV_real - dV_est) \n",
    "\n",
    "U = np.hstack([u_ext,u_ext])\n",
    "Y = np.hstack([dhe1,dhe2])\n",
    "\n",
    "#e_fg = [e_f, e_g]\n",
    "e_fg_real = dhx.dot(eps_fg) \n",
    "e_fg_est = Y.dot(pinv2(U)) # if pinv2 replaced with pinv, NaN error appears\n",
    "\n",
    "print('Values expected {}'.format(e_fg_real))\n",
    "print('Values obtained {}'.format(e_fg_est))\n",
    "\n"
   ]
  },
  {
   "cell_type": "code",
   "execution_count": 9,
   "metadata": {},
   "outputs": [],
   "source": [
    "# Random initial values\n",
    "a1 = 2.3\n",
    "a2 = a1 + 0.01\n",
    "b1 = 1.3\n",
    "b2 = b1 + 0.01\n",
    "\n",
    "u1 = 1000\n",
    "u2 = 1300\n",
    "\n",
    "\n",
    "A = np.array([[a1, b1],[a2, b2]])\n",
    "u_ext = np.array([[1, 1],[u1, u2]])\n",
    "\n",
    "y = A.dot(u_ext)\n",
    "y_real = np.diag(np.diag(y))\n",
    "\n",
    "A_est = y_real.dot(pinv2(u_ext))\n",
    "\n",
    "\n"
   ]
  },
  {
   "cell_type": "code",
   "execution_count": 10,
   "metadata": {},
   "outputs": [
    {
     "data": {
      "text/plain": [
       "array([[ 5.64330000e+03, -4.34100000e+00],\n",
       "       [-5.68436667e+03,  5.68436667e+00]])"
      ]
     },
     "execution_count": 10,
     "metadata": {},
     "output_type": "execute_result"
    }
   ],
   "source": [
    "A_est"
   ]
  },
  {
   "cell_type": "code",
   "execution_count": 11,
   "metadata": {},
   "outputs": [
    {
     "data": {
      "text/plain": [
       "array([[2.3 , 1.3 ],\n",
       "       [2.31, 1.31]])"
      ]
     },
     "execution_count": 11,
     "metadata": {},
     "output_type": "execute_result"
    }
   ],
   "source": [
    "A"
   ]
  },
  {
   "cell_type": "code",
   "execution_count": 7,
   "metadata": {},
   "outputs": [
    {
     "data": {
      "text/plain": [
       "array([1302.3 , 1705.31])"
      ]
     },
     "execution_count": 7,
     "metadata": {},
     "output_type": "execute_result"
    }
   ],
   "source": [
    "np.diag(y)"
   ]
  },
  {
   "cell_type": "code",
   "execution_count": 8,
   "metadata": {},
   "outputs": [
    {
     "data": {
      "text/plain": [
       "array([[1302.3 ,    0.  ],\n",
       "       [   0.  , 1705.31]])"
      ]
     },
     "execution_count": 8,
     "metadata": {},
     "output_type": "execute_result"
    }
   ],
   "source": []
  },
  {
   "cell_type": "code",
   "execution_count": 4,
   "metadata": {},
   "outputs": [
    {
     "data": {
      "text/plain": [
       "array([[3499.6]])"
      ]
     },
     "execution_count": 4,
     "metadata": {},
     "output_type": "execute_result"
    }
   ],
   "source": [
    "e_fg_real.dot(u_ext)"
   ]
  },
  {
   "cell_type": "code",
   "execution_count": 6,
   "metadata": {},
   "outputs": [
    {
     "data": {
      "text/plain": [
       "array([[1499.5]])"
      ]
     },
     "execution_count": 6,
     "metadata": {},
     "output_type": "execute_result"
    }
   ],
   "source": [
    "e_fg_est.dot(u_ext)"
   ]
  },
  {
   "cell_type": "code",
   "execution_count": 7,
   "metadata": {},
   "outputs": [
    {
     "data": {
      "text/plain": [
       "array([[3499.6, -500.6]])"
      ]
     },
     "execution_count": 7,
     "metadata": {},
     "output_type": "execute_result"
    }
   ],
   "source": [
    "Y"
   ]
  }
 ],
 "metadata": {
  "interpreter": {
   "hash": "31f2aee4e71d21fbe5cf8b01ff0e069b9275f58929596ceb00d14d90e3e16cd6"
  },
  "kernelspec": {
   "display_name": "Python 3.6.9 64-bit",
   "name": "python3"
  },
  "language_info": {
   "codemirror_mode": {
    "name": "ipython",
    "version": 3
   },
   "file_extension": ".py",
   "mimetype": "text/x-python",
   "name": "python",
   "nbconvert_exporter": "python",
   "pygments_lexer": "ipython3",
   "version": "3.6.9"
  },
  "orig_nbformat": 4
 },
 "nbformat": 4,
 "nbformat_minor": 2
}
