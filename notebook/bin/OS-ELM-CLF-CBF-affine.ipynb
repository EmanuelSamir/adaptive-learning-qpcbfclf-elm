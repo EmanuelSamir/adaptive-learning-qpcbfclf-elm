{
 "cells": [
  {
   "cell_type": "code",
   "execution_count": 1,
   "id": "duplicate-consumption",
   "metadata": {},
   "outputs": [],
   "source": [
    "# Basic\n",
    "import numpy as np\n",
    "from matplotlib import pyplot as plt\n",
    "from scipy.linalg import pinv2\n",
    "from tqdm import tqdm\n",
    "\n",
    "# For Dataset\n",
    "from collections import deque, namedtuple\n",
    "import random\n",
    "\n",
    "# For solvers\n",
    "from qpsolvers import solve_qp\n",
    "from scipy.integrate import solve_ivp\n",
    "from casadi import *\n",
    "import casadi\n",
    "\n",
    "# For estimators\n",
    "from torch import nn\n",
    "import torch\n",
    "import torch.nn.functional as F\n",
    "\n",
    "\n"
   ]
  },
  {
   "cell_type": "code",
   "execution_count": 3,
   "id": "stuffed-batch",
   "metadata": {},
   "outputs": [],
   "source": [
    "from utils.system import AAC\n",
    "from utils.controller import LCBF, PID\n",
    "from utils.dataset import Dataset\n",
    "from utils.estimator import *"
   ]
  },
  {
   "cell_type": "code",
   "execution_count": 4,
   "id": "reported-crystal",
   "metadata": {},
   "outputs": [],
   "source": [
    "def sample_initial_state(p_min = 0, p_max = 2,\n",
    "                         v_min = 18, v_max = 22,\n",
    "                         z_min = 38, z_max = 42):\n",
    "    p0 = np.random.uniform(p_min, p_max)\n",
    "    v0 = np.random.uniform(v_min, v_max)\n",
    "    z0 = np.random.uniform(z_min, z_max)\n",
    "    return np.array([p0, v0, z0])\n",
    "\n",
    "class Derivator:\n",
    "    def __init__(self, dt):\n",
    "        self.x = 0\n",
    "        self.dt = dt\n",
    "        \n",
    "    def update(self, x_n):\n",
    "        dx = (x_n - self.x)/dt\n",
    "        \n",
    "        self.x = x_n\n",
    "        \n",
    "        \n",
    "        return dx\n",
    "    "
   ]
  },
  {
   "cell_type": "code",
   "execution_count": 5,
   "id": "indoor-ultimate",
   "metadata": {},
   "outputs": [],
   "source": [
    "dt = 0.01\n",
    "simTime = 50\n",
    "\n",
    "# Real parameters\n",
    "v_lead = 22\n",
    "v_des = 24\n",
    "m  = 1650.0\n",
    "g = 9.81\n",
    "\n",
    "# \n",
    "f0 = 0.1\n",
    "f1 = 5\n",
    "f2 = 0.25\n",
    "#\n",
    "\n",
    "c_a = 0.3\n",
    "c_d = 0.3\n",
    "Th = 1.8\n",
    "\n",
    "# Nominal parameters\n",
    "f0_nom = 10*f0\n",
    "f1_nom = 10*f1\n",
    "f2_nom = 10*f2\n",
    "\n",
    "p_slack = 2e-2\n",
    "clf_rate = 5\n",
    "cbf_rate = 5.\n",
    "\n",
    "# Initial state\n",
    "p0 = 0.\n",
    "v0 = 22\n",
    "z0 = 35\n",
    "\n",
    "\n",
    "x_lst = []\n",
    "u_lst = []\n",
    "V_lst = []\n",
    "B_lst = []\n",
    "slack_lst = []\n",
    "\n",
    "# Parameter ELM\n",
    "n_hidden = 50\n"
   ]
  },
  {
   "cell_type": "code",
   "execution_count": 9,
   "id": "paperback-preparation",
   "metadata": {
    "scrolled": true
   },
   "outputs": [
    {
     "name": "stderr",
     "output_type": "stream",
     "text": [
      " 28%|██▊       | 1383/5000.0 [00:13<00:35, 101.76it/s]/home/emanuelsamir/Documentos/dev/RISS/state-of-the-art/LCBF-CLF/notebook/utils/estimator.py:130: RuntimeWarning: overflow encountered in exp\n",
      "  return 1 / (1 + np.exp(-x))\n",
      "100%|██████████| 5000/5000.0 [00:46<00:00, 107.66it/s]\n"
     ]
    }
   ],
   "source": [
    "aac = AAC(m, c_d, f0, f1, f2, v_lead)\n",
    "\n",
    "cont = LCBF(m, c_a, c_d, f0_nom, f1_nom, f2_nom, v_lead, v_des, Th, clf_rate, cbf_rate, p_slack)\n",
    "\n",
    "derivator = Derivator(dt)\n",
    "\n",
    "learned_ratio = 1.6\n",
    "estimator = OSELM_affine_2head(3, n_hidden, 2, learned_ratio, dt) #OSELM_affine(3, n_hidden, 2, learned_ratio, dt)\n",
    "\n",
    "# e_f, e_g\n",
    "\n",
    "xs = []\n",
    "us = []\n",
    "Vs = []\n",
    "hs = []\n",
    "dhe_reals = []\n",
    "dhes = []\n",
    "\n",
    "# Temporal\n",
    "e_f_reals = []\n",
    "e_f_ests = []\n",
    "e_f_mins = []\n",
    "\n",
    "e_g_reals = []\n",
    "e_g_ests = []\n",
    "e_g_mins = []\n",
    "\n",
    "slacks = []\n",
    "\n",
    "weights = 0.2\n",
    "\n",
    "train_input, train_output = [], []\n",
    "\n",
    "x = sample_initial_state()\n",
    "\n",
    "first_time = True\n",
    "\n",
    "# PID control reference\n",
    "x_dim = 3\n",
    "u_dim = 1\n",
    "\n",
    "kp = np.array([[0, 1.0e3, 0]])\n",
    "kd = np.array([[0, 0.1, 0]])\n",
    "ki = np.array([[0, 1.0e3, 0]])\n",
    "\n",
    "pid = PID(x_dim, u_dim, kp, kd, ki, dt)\n",
    "\n",
    "if simTime / dt < learned_ratio*n_hidden:\n",
    "    raise ValueError('simTime / dT: {} must be larger than {} times the n_hidden: {}'.format(simTime / dt, learned_ratio,n_hidden))\n",
    "\n",
    "pbar = tqdm(total=simTime/dt)\n",
    "\n",
    "for t in np.arange(0, simTime, dt): #simTime\n",
    "    pbar.update(n=1)\n",
    "    \n",
    "    # Get reference control\n",
    "    e = np.array([[0], [v_des], [0]]) - np.expand_dims(x, axis = 1)\n",
    "    u_ref = pid.update(e) #f0_nom * v**2 + f1_nom * v + f2_nom\n",
    "    u_ref = u_ref[0,0]\n",
    "    \n",
    "    aac.v_lead = v_lead # + 5*np.sin(2*t) # lead_vehicle\n",
    "    cont.v_lead =  v_lead # + 5*np.sin(2*t)\n",
    "    \n",
    "    # Control Input\n",
    "\n",
    "    x_tmp = np.array(x)\n",
    "    #x_tmp[0] = 0\n",
    "\n",
    "    k, slack_sol, V, dV, h, dh, dhe, dS = cont.compute_controller(x_tmp, u_ref, estimator, weights, t) \n",
    "\n",
    "\n",
    "    # One step propagation in the system\n",
    "    x_n = aac.update(x, k, t, dt)\n",
    "\n",
    "    dh_real = derivator.update(h)\n",
    "\n",
    "    dhe_real = dh_real - dh\n",
    "\n",
    "    \n",
    "\n",
    "    # Temporal\n",
    "    v = x[1]\n",
    "    v_lead_real = v_lead  #+ 5*np.sin(2*t)\n",
    "    Fr_real = f0 * v**2 + f1 * v + f2\n",
    "    L_f_h_real = (Fr_real)/m * (Th + (v - v_lead_real)/c_d/g ) + (v_lead_real - v)\n",
    "    L_g_h_real = - 1/m * (Th + (v - v_lead_real)/c_d/g )\n",
    "\n",
    "    Fr_nom = f0_nom * v**2 + f1_nom * v + f2_nom\n",
    "    L_f_h_nom = (Fr_nom)/m * (Th + (v - v_lead)/c_d/g ) + (v_lead - v)\n",
    "    L_g_h_nom = - 1/m * (Th + (v - v_lead)/c_d/g )\n",
    "\n",
    "    e_f_real = L_f_h_real - L_f_h_nom\n",
    "    e_g_real =  L_g_h_real - L_g_h_nom\n",
    "\n",
    "\n",
    "    \n",
    "\n",
    "\n",
    "    #e_fg_est, _ = estimator.e_fg.predict(np.array([x]))\n",
    "    e_f_est, _ = estimator.e_f.predict(np.array([x_tmp]))# e_fg_est[0,0]\n",
    "    e_g_est, _ = estimator.e_g.predict(np.array([x_tmp])) #e_fg_est[0,1] \n",
    "\n",
    "    #print(e_f_est)\n",
    "\n",
    "    e_fg_min = (pinv2(np.array([[1, k]])) * dhe_real).squeeze()\n",
    "    e_f_min = e_fg_min[0]\n",
    "    e_g_min = e_fg_min[1]\n",
    "\n",
    "\n",
    "    # Training\n",
    "    estimator.training(x_tmp, k, dhe_real, t, e_f_real, e_g_real, True)\n",
    "\n",
    "    xs.append(x)\n",
    "    us.append(k)\n",
    "    Vs.append(V)\n",
    "    hs.append(h)\n",
    "    dhes.append(dhe)\n",
    "    dhe_reals.append(dhe_real)\n",
    "    slacks.append(slack_sol)\n",
    "\n",
    "    # Temporal\n",
    "    e_f_reals.append(e_f_real)\n",
    "    e_f_ests.append(e_f_est)\n",
    "    e_f_mins.append(e_f_min)\n",
    "\n",
    "    e_g_reals.append(e_g_real)\n",
    "    e_g_ests.append(e_g_est)\n",
    "    e_g_mins.append(e_g_min)\n",
    "\n",
    "    x = x_n\n",
    "        \n",
    "pbar.close()\n"
   ]
  },
  {
   "cell_type": "code",
   "execution_count": 10,
   "id": "challenging-trading",
   "metadata": {},
   "outputs": [
    {
     "data": {
      "text/plain": [
       "<matplotlib.legend.Legend at 0x7fbcf7ef7a20>"
      ]
     },
     "execution_count": 10,
     "metadata": {},
     "output_type": "execute_result"
    },
    {
     "data": {
      "image/png": "[encoded data removed]",
      "text/plain": [
       "<Figure size 936x1872 with 7 Axes>"
      ]
     },
     "metadata": {
      "needs_background": "light"
     },
     "output_type": "display_data"
    }
   ],
   "source": [
    "f,ax = plt.subplots(7,1,figsize = (13,26))\n",
    "t_lns = np.arange(0, simTime, dt)\n",
    "\n",
    "ax[0].plot(t_lns, np.array(xs)[:,1])\n",
    "ax[0].grid(True)\n",
    "ax[0].set_title('State - velocity')\n",
    "ax[0].axvline(x = n_hidden*learned_ratio*dt, color = 'red')\n",
    "\n",
    "ax[1].plot(t_lns,  np.array(xs)[:,2])\n",
    "ax[1].grid(True)\n",
    "ax[1].set_title('State - distance')\n",
    "ax[1].axvline(x = n_hidden*learned_ratio*dt, color = 'red')\n",
    "\n",
    "ax[1].plot(t_lns, Th*np.array(xs)[:,1])#  + 0.5*(np.array(x_lst)[exp,:,1] - v_ego)/c_d/g)\n",
    "\n",
    "ax[2].plot(t_lns,  np.array(us))\n",
    "ax[2].grid(True)\n",
    "ax[2].set_title('Control input')\n",
    "ax[2].axvline(x = n_hidden*learned_ratio*dt, color = 'red')\n",
    "\n",
    "\n",
    "ax[3].plot(t_lns, np.array(slacks))\n",
    "ax[3].grid(True)\n",
    "ax[3].set_title('Slack variable')\n",
    "ax[3].axvline(x = n_hidden*learned_ratio*dt, color = 'red')\n",
    "\n",
    "\n",
    "ax[4].plot(t_lns, hs)\n",
    "ax[4].axvline(x = n_hidden*learned_ratio*dt, color = 'red')\n",
    "ax[4].grid(True)\n",
    "ax[4].set_title('CBF')\n",
    "\n",
    "ax[5].plot(t_lns, Vs)\n",
    "ax[5].axvline(x = n_hidden*learned_ratio*dt, color = 'red')\n",
    "ax[5].grid(True)\n",
    "ax[5].set_title('CLF')\n",
    "\n",
    "ax[6].plot(t_lns[1:], dhes[1:])\n",
    "ax[6].plot(t_lns[1:], dhe_reals[1:])\n",
    "ax[6].grid(True)\n",
    "ax[6].set_title('$dh_{error}$')\n",
    "ax[6].axvline(x = n_hidden*learned_ratio*dt, color = 'red')\n",
    "\n",
    "\n",
    "ax[6].set_ylim([-10,10])\n",
    "ax[6].legend(['$dhe_{est}$','$dhe_{real}$'])\n"
   ]
  },
  {
   "cell_type": "code",
   "execution_count": null,
   "id": "849eacd1",
   "metadata": {},
   "outputs": [],
   "source": []
  },
  {
   "cell_type": "code",
   "execution_count": null,
   "id": "d94639ed",
   "metadata": {},
   "outputs": [],
   "source": []
  },
  {
   "cell_type": "code",
   "execution_count": 12,
   "id": "strong-graphics",
   "metadata": {},
   "outputs": [
    {
     "name": "stderr",
     "output_type": "stream",
     "text": [
      "/home/emanuelsamir/.local/lib/python3.6/site-packages/ipykernel_launcher.py:4: VisibleDeprecationWarning: Creating an ndarray from ragged nested sequences (which is a list-or-tuple of lists-or-tuples-or ndarrays with different lengths or shapes) is deprecated. If you meant to do this, you must specify 'dtype=object' when creating the ndarray\n",
      "  after removing the cwd from sys.path.\n",
      "/home/emanuelsamir/.local/lib/python3.6/site-packages/ipykernel_launcher.py:15: VisibleDeprecationWarning: Creating an ndarray from ragged nested sequences (which is a list-or-tuple of lists-or-tuples-or ndarrays with different lengths or shapes) is deprecated. If you meant to do this, you must specify 'dtype=object' when creating the ndarray\n",
      "  from ipykernel import kernelapp as app\n"
     ]
    },
    {
     "data": {
      "text/plain": [
       "(-0.005, 0.005)"
      ]
     },
     "execution_count": 12,
     "metadata": {},
     "output_type": "execute_result"
    },
    {
     "data": {
      "image/png": "[encoded data removed]",
      "text/plain": [
       "<Figure size 1800x720 with 2 Axes>"
      ]
     },
     "metadata": {
      "needs_background": "light"
     },
     "output_type": "display_data"
    }
   ],
   "source": [
    "f,ax = plt.subplots(2,1,figsize = (25,10))\n",
    "t_lns = np.arange(0, simTime, dt)\n",
    "\n",
    "ax[0].plot(t_lns, np.array(e_f_ests))\n",
    "ax[0].plot(t_lns, np.array(e_f_mins))\n",
    "ax[0].plot(t_lns, np.array(e_f_reals))\n",
    "ax[0].axvline(x = n_hidden*learned_ratio*dt, color = 'red')\n",
    "\n",
    "ax[0].grid(True)\n",
    "ax[0].set_title('$e_f$')\n",
    "ax[0].legend(['$e_{f,est}$','$e_{f,min}$','$e_{f,real}$'], fontsize =14)\n",
    "ax[0].set_ylim([-5,5])\n",
    "#ax[0].set_ylim([-0.0001,0.0001])\n",
    "\n",
    "ax[1].plot(t_lns, np.array(e_g_ests))\n",
    "ax[1].plot(t_lns, np.array(e_g_mins))\n",
    "ax[1].plot(t_lns, np.array(e_g_reals))\n",
    "ax[1].axvline(x = n_hidden*learned_ratio*dt, color = 'red')\n",
    "\n",
    "ax[1].grid(True)\n",
    "ax[1].set_title('$e_g$')\n",
    "ax[1].legend(['$e_{g,est}$','$e_{g,min}$','$e_{g,real}$'], fontsize =14)\n",
    "ax[1].set_ylim([-0.005,0.005])"
   ]
  },
  {
   "cell_type": "code",
   "execution_count": null,
   "id": "05ad5168",
   "metadata": {},
   "outputs": [],
   "source": []
  },
  {
   "cell_type": "markdown",
   "id": "persistent-supplement",
   "metadata": {},
   "source": [
    "## Simplest case"
   ]
  },
  {
   "cell_type": "code",
   "execution_count": 3,
   "id": "elder-coral",
   "metadata": {},
   "outputs": [],
   "source": [
    "A = np.array([[1, 5000]]) # A = [1, u]\n",
    "efg = np.array([[0.3], [0.4]]) # efg = []\n",
    "my_dh_real = np.dot(A, efg)\n",
    "\n",
    "# Inverse process: efg not known\n",
    "efg_est = np.dot(pinv2(A), my_dh_real)\n",
    "my_dh_est = np.dot(A, efg_est)\n",
    "\n",
    "\n"
   ]
  },
  {
   "cell_type": "code",
   "execution_count": 4,
   "id": "lucky-shannon",
   "metadata": {},
   "outputs": [],
   "source": [
    "u_ext = np.array([[1, 5000]])\n",
    "# dhe = dh + dhx * (eps_f + eps_g*u)\n",
    "# dVe =  dV + dVx * (eps_f + eps_g*u)\n",
    "# pinv(dVx) * (dVe - dV) = (eps_f + eps_g*u)\n",
    "\n",
    "# dhx * pinv(dVx) * (dVe - dV) = dhx * (eps_f + eps_g*u)\n",
    "# dhe - dh = dhx * (eps_f + eps_g*u)\n",
    "\n",
    "# [[1, k],[1, k]] * [[e_f],[e_g]]\n",
    "\n",
    "\n",
    "\n"
   ]
  },
  {
   "cell_type": "code",
   "execution_count": 5,
   "id": "departmental-church",
   "metadata": {},
   "outputs": [],
   "source": [
    "u_ext = np.array([[1, 5000]])\n",
    "\n",
    "dhx = np.array([[0, -1, 2]])\n",
    "dVx = np.array([[0, 2, 0]])\n",
    "dh = np.array([[2500]])\n",
    "dV = np.array([[1000]])\n",
    "\n",
    "eps_fg = np.array([[0.5],[0.6]])\n",
    "\n",
    "\n"
   ]
  },
  {
   "cell_type": "markdown",
   "id": "trying-jones",
   "metadata": {},
   "source": []
  },
  {
   "cell_type": "code",
   "execution_count": 6,
   "id": "attractive-active",
   "metadata": {},
   "outputs": [],
   "source": [
    "dh_real = dh + dhx * np.dot(u_ext, eps_fg)\n",
    "dV_real =  dV + dVx * np.dot(u_ext, eps_fg)\n",
    "\n"
   ]
  },
  {
   "cell_type": "markdown",
   "id": "driving-travel",
   "metadata": {},
   "source": [
    "$$\n",
    "\\frac{\\partial h}{\\partial x} \\left( \\frac{\\partial V}{\\partial x} \\right)^+ \\tilde{\\dot{V}} = \\tilde{\\dot{h}}_1 = \\frac{\\partial h}{\\partial x} [ \\tilde{f} \\; \\tilde{g}] [1 \\; u]^T \\\\\n",
    "\\tilde{\\dot{h}} = \\tilde{\\dot{h}}_2 = \\frac{\\partial h}{\\partial x} [ \\tilde{f} \\; \\tilde{g}] [1 \\; u]^T\n",
    "$$\n",
    "\n",
    "A possible arrangement could be\n",
    "\n",
    "$$\n",
    "\\frac{\\partial h}{\\partial x} [ \\tilde{f} \\; \\tilde{g}]  = [e_f \\; e_g] = [\\tilde{\\dot{h}}_1  \\; \\tilde{\\dot{h}}_2 ] \\begin{bmatrix} 1& 1\\\\ u &u\n",
    "\\end{bmatrix}^+\n",
    "$$\n"
   ]
  },
  {
   "cell_type": "code",
   "execution_count": 54,
   "id": "cheap-annex",
   "metadata": {},
   "outputs": [
    {
     "name": "stdout",
     "output_type": "stream",
     "text": [
      "Values expected [[-0.4  0.7]]\n",
      "Values obtained [[5.99799976e-05 2.99899988e-01]]\n"
     ]
    }
   ],
   "source": [
    "\n",
    "# Random sample values for the components.\n",
    "u_ext = np.array([[1], [5000]])\n",
    "\n",
    "dhx = np.array([[0, -1, 2]])\n",
    "dVx = np.array([[0, 2, 0]])\n",
    "dh_est = np.array([[3]])\n",
    "dV_est = np.array([[4]])\n",
    "\n",
    "eps_fg = np.array([[0.5,0.2],[0.6,0.1],[0.1,0.4]]) # [eps_f eps_g]\n",
    "\n",
    "\n",
    "dh_real = dh_est + dhx.dot(np.dot(eps_fg, u_ext))\n",
    "dV_real =  dV_est + dVx.dot(np.dot(eps_fg, u_ext))\n",
    "\n",
    "dhe1 = dh_real - dh_est\n",
    "dhe2 = dhx.dot(pinv(dVx)).dot(dV_real - dV_est) \n",
    "\n",
    "U = np.hstack([u_ext,u_ext])\n",
    "Y = np.hstack([dhe1,dhe2])\n",
    "\n",
    "#e_fg = [e_f, e_g]\n",
    "e_fg_real = dhx.dot(eps_fg) \n",
    "e_fg_est = Y.dot(pinv2(U)) # if pinv2 replaced with pinv, NaN error appears\n",
    "\n",
    "print('Values expected {}'.format(e_fg_real))\n",
    "print('Values obtained {}'.format(e_fg_est))\n",
    "\n"
   ]
  },
  {
   "cell_type": "code",
   "execution_count": 60,
   "id": "dimensional-dimension",
   "metadata": {},
   "outputs": [
    {
     "data": {
      "text/plain": [
       "array([[3499.6]])"
      ]
     },
     "execution_count": 60,
     "metadata": {},
     "output_type": "execute_result"
    }
   ],
   "source": [
    "e_fg_real.dot(u_ext)"
   ]
  },
  {
   "cell_type": "code",
   "execution_count": 59,
   "id": "metallic-joining",
   "metadata": {},
   "outputs": [
    {
     "data": {
      "text/plain": [
       "array([[1499.5]])"
      ]
     },
     "execution_count": 59,
     "metadata": {},
     "output_type": "execute_result"
    }
   ],
   "source": [
    "e_fg_est.dot(u_ext)"
   ]
  },
  {
   "cell_type": "code",
   "execution_count": 63,
   "id": "patent-mission",
   "metadata": {},
   "outputs": [
    {
     "data": {
      "text/plain": [
       "array([[3499.6, -500.6]])"
      ]
     },
     "execution_count": 63,
     "metadata": {},
     "output_type": "execute_result"
    }
   ],
   "source": [
    "Y"
   ]
  },
  {
   "cell_type": "code",
   "execution_count": 19,
   "id": "acute-fifteen",
   "metadata": {},
   "outputs": [],
   "source": [
    "A = np.array([[1, 5000],[1, 5000]]) "
   ]
  },
  {
   "cell_type": "code",
   "execution_count": 22,
   "id": "unsigned-interim",
   "metadata": {},
   "outputs": [
    {
     "data": {
      "text/plain": [
       "array([[3.99999984e-08],\n",
       "       [1.99999992e-04]])"
      ]
     },
     "execution_count": 22,
     "metadata": {},
     "output_type": "execute_result"
    }
   ],
   "source": [
    "pinv2(A)"
   ]
  },
  {
   "cell_type": "code",
   "execution_count": 14,
   "id": "becoming-details",
   "metadata": {},
   "outputs": [
    {
     "data": {
      "text/plain": [
       "array([[1.99999992e-08, 1.99999992e-08],\n",
       "       [9.99999960e-05, 9.99999960e-05]])"
      ]
     },
     "execution_count": 14,
     "metadata": {},
     "output_type": "execute_result"
    }
   ],
   "source": [
    "pinv2(A)"
   ]
  },
  {
   "cell_type": "code",
   "execution_count": 4,
   "id": "acquired-monitoring",
   "metadata": {},
   "outputs": [
    {
     "data": {
      "text/plain": [
       "array([[8.00119968e-05],\n",
       "       [4.00059984e-01]])"
      ]
     },
     "execution_count": 4,
     "metadata": {},
     "output_type": "execute_result"
    }
   ],
   "source": [
    "efg_est"
   ]
  },
  {
   "cell_type": "code",
   "execution_count": 5,
   "id": "bizarre-direction",
   "metadata": {},
   "outputs": [
    {
     "data": {
      "text/plain": [
       "array([[0.3],\n",
       "       [0.4]])"
      ]
     },
     "execution_count": 5,
     "metadata": {},
     "output_type": "execute_result"
    }
   ],
   "source": [
    "efg"
   ]
  },
  {
   "cell_type": "code",
   "execution_count": 6,
   "id": "frank-rates",
   "metadata": {},
   "outputs": [
    {
     "data": {
      "text/plain": [
       "array([[2000.3]])"
      ]
     },
     "execution_count": 6,
     "metadata": {},
     "output_type": "execute_result"
    }
   ],
   "source": [
    "my_dh_est"
   ]
  },
  {
   "cell_type": "code",
   "execution_count": 7,
   "id": "marked-rover",
   "metadata": {},
   "outputs": [
    {
     "data": {
      "text/plain": [
       "array([[2000.3]])"
      ]
     },
     "execution_count": 7,
     "metadata": {},
     "output_type": "execute_result"
    }
   ],
   "source": [
    "my_dh_real"
   ]
  }
 ],
 "metadata": {
  "interpreter": {
   "hash": "31f2aee4e71d21fbe5cf8b01ff0e069b9275f58929596ceb00d14d90e3e16cd6"
  },
  "kernelspec": {
   "display_name": "Python 3",
   "language": "python",
   "name": "python3"
  },
  "language_info": {
   "codemirror_mode": {
    "name": "ipython",
    "version": 3
   },
   "file_extension": ".py",
   "mimetype": "text/x-python",
   "name": "python",
   "nbconvert_exporter": "python",
   "pygments_lexer": "ipython3",
   "version": "3.6.9"
  }
 },
 "nbformat": 4,
 "nbformat_minor": 5
}
